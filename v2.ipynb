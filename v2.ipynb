{
 "cells": [
  {
   "cell_type": "code",
   "execution_count": null,
   "id": "7772998c",
   "metadata": {},
   "outputs": [
    {
     "name": "stdout",
     "output_type": "stream",
     "text": [
      "Visualisation sauvegardée -> 'monvisualisation.png'\n"
     ]
    }
   ],
   "source": [
    "import sys\n",
    "import json\n",
    "import random\n",
    "from PIL import Image, ImageDraw\n",
    "\n",
    "# le user choisit le fichier qu'il veut (json) et map quelle est la colonne année et puissance (valeur) à étudier et aussi le nom du fichier de sortie\n",
    "nomFichier = input(\"Nom du fichier texte à lire (ex: fichier.json) : \").strip()\n",
    "colAnnée = input(\"Nom de la colonne des années dans ton dataset :\").strip()\n",
    "colPuissance = input(\"Nom de la colonne autre dans ton dataset (ex : mm de précipitations, température moyenne):\").strip()\n",
    "nomDesortie = input(\"Nom du fichier de sortie (ex : mavisualisation): \").strip()\n",
    "\n",
    "# gestion des erreurs relatives au json, potentiellement mal encodé ou mal renseigné par le user\n",
    "try:\n",
    "    with open(nomFichier, \"r\", encoding=\"utf-8\") as f:\n",
    "        data = json.load(f)\n",
    "except FileNotFoundError:\n",
    "    print(f\"Le fichier '{nomFichier}' n'existe pas.\")\n",
    "    sys.exit(1)\n",
    "except json.JSONDecodeError:\n",
    "    print(\"Erreur : le fichier n'est pas un JSON valide.\")\n",
    "    sys.exit(1)\n",
    "\n",
    "# mapping des données avec les variables définies en input par le user\n",
    "annees = [d[colAnnée] for d in data]\n",
    "valeurs = [d[colPuissance] for d in data]\n",
    "\n",
    "# normalisation pour avoir une meilleure lisibilité des données (cela évite que si on a une valeur à 100 et une a 5000000 on en voit pas une des deux)\n",
    "val_min = min(valeurs)\n",
    "val_max = max(valeurs)\n",
    "\n",
    "def normaliser(val):\n",
    "    if val_max == val_min:\n",
    "        return 0.5\n",
    "    return (val - val_min) / (val_max - val_min)\n",
    "\n",
    "scales = [normaliser(v) for v in valeurs]\n",
    "\n",
    "# définition du canevas sur lequel on va insérer les pixels\n",
    "hauteur = 1024\n",
    "largeur = len(annees) * 25  # espacement horizontal\n",
    "img = Image.new(\"RGB\", (largeur, hauteur), color=(0, 0, 0))  # fond noir\n",
    "draw = ImageDraw.Draw(img)\n",
    "\n",
    "#paramètre des cercles qui seront nos étoiles (ici il y a jaune mix et max pour créer un dégradé selon l'intensité, sa valeur dans la normalisaiton)\n",
    "rayon_min = 5\n",
    "rayon_max = 25\n",
    "jaune_max = (255, 255, 0)\n",
    "jaune_min = (128, 128, 0)\n",
    "dispersion = hauteur // 2  # permet aux cercles d'être répartis sur toute la hauteur\n",
    "\n",
    "# Dessiner les cercles (étoiles)\n",
    "for i, s in enumerate(scales):\n",
    "    # Position horizontale\n",
    "    x = i * 25 + 12  # centré sur la case\n",
    "    # Position verticale aléatoire autour du centre\n",
    "    y_central = hauteur // 2\n",
    "    y = int(y_central + random.uniform(-dispersion, dispersion))\n",
    "    \n",
    "    # Taille du cercle (ici s c'est la valeur noramlisée entre 0 et 1) en gros on utilise S pour faire un coef sur le rayon mix et max définis en dur avant\n",
    "    rayon = int(rayon_min + s * (rayon_max - rayon_min))\n",
    "    \n",
    "    # couleur du cercle : on utilise jaune min et jaune max comme pour les tailles du rayon et on utilise S pour définir l'intensité, proche de 0 sera terne et proche de 1 sera flash\n",
    "    r = int(jaune_min[0] * (1 - s) + jaune_max[0] * s)\n",
    "    g = int(jaune_min[1] * (1 - s) + jaune_max[1] * s)\n",
    "    b = int(jaune_min[2] * (1 - s) + jaune_max[2] * s)\n",
    "    couleur = (r, g, b)\n",
    "    \n",
    "    # dessiner le cercle\n",
    "    draw.ellipse(\n",
    "        [x - rayon, y - rayon, x + rayon, y + rayon],\n",
    "        fill=couleur\n",
    "    )\n",
    "\n",
    "#sauvegarde du fichier dans le répertoire donné \n",
    "nom_image =  f\"{nomDesortie}.png\"\n",
    "img.save(nom_image)\n",
    "print(f\"Visualisation sauvegardée -> '{nom_image}'\")\n"
   ]
  }
 ],
 "metadata": {
  "kernelspec": {
   "display_name": "base",
   "language": "python",
   "name": "python3"
  },
  "language_info": {
   "codemirror_mode": {
    "name": "ipython",
    "version": 3
   },
   "file_extension": ".py",
   "mimetype": "text/x-python",
   "name": "python",
   "nbconvert_exporter": "python",
   "pygments_lexer": "ipython3",
   "version": "3.12.7"
  }
 },
 "nbformat": 4,
 "nbformat_minor": 5
}
